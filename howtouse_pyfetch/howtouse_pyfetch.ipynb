{
 "cells": [
  {
   "cell_type": "markdown",
   "metadata": {},
   "source": [
    "# how to use pyfetch 사용설명서"
   ]
  },
  {
   "cell_type": "markdown",
   "metadata": {},
   "source": [
    "## 작동원리\n",
    "- requests라는 라이브러리를 이용하여 서버에 데이터를 요청한다."
   ]
  },
  {
   "cell_type": "markdown",
   "metadata": {},
   "source": [
    "### requests 설치\n",
    ".py 파일에서 설치하려면 콘솔을 열고 !없이 \n",
    "\n",
    "```pip install requests```\n",
    "\n",
    "를 입력(버전 상관 없음)"
   ]
  },
  {
   "cell_type": "code",
   "execution_count": 1,
   "metadata": {},
   "outputs": [
    {
     "name": "stdout",
     "output_type": "stream",
     "text": [
      "Requirement already satisfied: requests in /opt/anaconda3/lib/python3.9/site-packages (2.28.1)\n",
      "Requirement already satisfied: charset-normalizer<3,>=2 in /opt/anaconda3/lib/python3.9/site-packages (from requests) (2.0.4)\n",
      "Requirement already satisfied: certifi>=2017.4.17 in /opt/anaconda3/lib/python3.9/site-packages (from requests) (2022.9.24)\n",
      "Requirement already satisfied: idna<4,>=2.5 in /opt/anaconda3/lib/python3.9/site-packages (from requests) (3.3)\n",
      "Requirement already satisfied: urllib3<1.27,>=1.21.1 in /opt/anaconda3/lib/python3.9/site-packages (from requests) (1.26.11)\n"
     ]
    }
   ],
   "source": [
    "!pip install requests"
   ]
  },
  {
   "cell_type": "markdown",
   "metadata": {},
   "source": [
    "### requests 라이브러리 설치 확인\n",
    "버전이 출력되면 제대로 설치된것임"
   ]
  },
  {
   "cell_type": "code",
   "execution_count": 3,
   "metadata": {},
   "outputs": [
    {
     "name": "stdout",
     "output_type": "stream",
     "text": [
      "2.28.1\n"
     ]
    }
   ],
   "source": [
    "import requests\n",
    "\n",
    "print(requests.__version__)"
   ]
  },
  {
   "cell_type": "markdown",
   "metadata": {},
   "source": [
    "### url과 헤더 설명"
   ]
  },
  {
   "cell_type": "markdown",
   "metadata": {},
   "source": [
    "#### url=http://(실행하는 서버 ip주소):(포트번호)\n",
    "\n",
    "  - 포트번호는 지난번 기본설정값 3000으로 하면 됨. 만약 서버 포트번호 바뀌면 바뀐 번호로 써주면 됨.\n",
    "\n",
    "  - 그리고 ip주소는 만약 같은 컴퓨터에서 실행한다면\n",
    "  \n",
    "    ```url=http://127.0.0.1:3000```\n",
    "\n",
    "    로 하면 될것임.\n",
    "\n",
    "    \n",
    "\n",
    "  - 만약 다른 컴퓨터에서 서버를 실행한다면?\n",
    "\n",
    "    지난번에 알려준 서버 ip주소 얻는법에서 서버 주소가```192.168.0.3```이 나왔다면\n",
    "\n",
    "    ```url=http://192.168.0.3:3000```\n",
    "\n",
    "    으로 작성하변 됨\n",
    "\n",
    "  "
   ]
  },
  {
   "cell_type": "markdown",
   "metadata": {},
   "source": [
    "#### 헤더\n",
    "\n",
    "``` headers = {'Content-Type': 'application/json','Authorization': 'Bearer TOKEN',} ```\n"
   ]
  },
  {
   "cell_type": "markdown",
   "metadata": {},
   "source": [
    "#### url과 headers변수 입력"
   ]
  },
  {
   "cell_type": "code",
   "execution_count": 4,
   "metadata": {},
   "outputs": [],
   "source": [
    "url='http://192.168.0.4'\n",
    "\n",
    "headers = {'Content-Type': 'application/json','Authorization': 'Bearer TOKEN',}"
   ]
  },
  {
   "cell_type": "markdown",
   "metadata": {},
   "source": [
    "#### 실제 요청 전송"
   ]
  },
  {
   "cell_type": "markdown",
   "metadata": {},
   "source": [
    "#### url 변수 변경, identification추가\n",
    "다 post로 처리하도록 서버를 설정해놓음(원래는 이러면 안됨.)\n",
    "\n",
    "그리고 적절하게 요청을 하기 위해서는 url을 조금 바꿔야함.\n",
    "\n",
    "추가로 인증과정을 서버에 둬서 서버에 인증을 위한 데이터를 첨부해줘야함."
   ]
  },
  {
   "cell_type": "code",
   "execution_count": 16,
   "metadata": {},
   "outputs": [],
   "source": [
    "# 바꾼 url\n",
    "url = 'http://192.168.0.4:3000/medical_staff/requestCounselsPython'\n",
    "\n",
    "# 인증을 위한 identification 데이터\n",
    "# email과 password 변수에 의료진 email과 password 문자열로 적으면 됨\n",
    "email = 'medical1'\n",
    "password = '1234'\n",
    "identification = {'email':email, 'password':password}\n",
    "\n",
    "# 최종적으로 서버에 보낼 데이터\n",
    "sendData = { 'identification':identification }"
   ]
  },
  {
   "cell_type": "markdown",
   "metadata": {},
   "source": [
    "#### 요청하기"
   ]
  },
  {
   "cell_type": "markdown",
   "metadata": {},
   "source": [
    "결과적으로 아래 코드에서 resData에 json형식으로 변수가 저장되어 있음\n",
    "\n",
    "resData 읽어보고 적절하게 필요한 데이터 가져다 쓰면 될것임"
   ]
  },
  {
   "cell_type": "code",
   "execution_count": 19,
   "metadata": {},
   "outputs": [
    {
     "name": "stdout",
     "output_type": "stream",
     "text": [
      "{'result': 0, 'data': {'counselList': [{'id': 1, 'path': '/Users/m1_macair/Desktop/외주/analyze_with_photo/analyze_with_photo/analyze_with_photo_server/counsels/1723517940503.json', 'isDiagnosed': False, 'createdAt': '2024-08-13T02:59:00.505Z', 'updatedAt': '2024-08-13T02:59:00.505Z', 'deletedAt': None, 'UserId': None, 'userId': 1}, {'id': 2, 'path': '/Users/m1_macair/Desktop/외주/analyze_with_photo/analyze_with_photo/analyze_with_photo_server/counsels/1723517985099.json', 'isDiagnosed': True, 'createdAt': '2024-08-13T02:59:45.202Z', 'updatedAt': '2024-08-13T04:47:43.808Z', 'deletedAt': None, 'UserId': None, 'userId': 1}]}}\n"
     ]
    }
   ],
   "source": [
    "response = requests.post(url, headers=headers, json=sendData)\n",
    "\n",
    "resData = response.json()\n",
    "\n",
    "# 오류 없음\n",
    "if resData['result'] == 0:\n",
    "    print(resData)\n",
    "elif resData['result'] == 1:\n",
    "    print('로그인 에러. email이나 Password 변수 점검 바람.')\n",
    "    print(resData)\n",
    "elif resData['result'] == 2:\n",
    "    print('db서버로부터 서버가 파일을 읽어오는데 오류가 있거나 서버가 .json 파일을 읽어오는데 오류가 발생함')\n",
    "    print(resData)"
   ]
  },
  {
   "cell_type": "markdown",
   "metadata": {},
   "source": []
  },
  {
   "cell_type": "markdown",
   "metadata": {},
   "source": [
    "### 전체 코드"
   ]
  },
  {
   "cell_type": "markdown",
   "metadata": {},
   "source": [
    "위에서 설명이 길었는데 그냥 아래 코드 복붙하고 실행시키면 동일 폴더에 temp.json생김. 여기서 가져다 쓰면 됨.\n",
    "\n",
    "이때 \n",
    "- url내부에 ip주소\n",
    "- email과 password 아무 의료진 이메일 패스워드(회원가입 의료진으로 체크한 아무 계정이나 상관없음)\n",
    "만 바꿔주면 됨\n",
    "\n",
    "그리고 오류 발생 없으면 temp.json 내부에 있는 값 가져다 쓰면 됨.\n",
    "\n",
    "오류 발생하면 어떤 print된값 캡쳐해서 나한테 보내주면 뭔오륜지 알려드림"
   ]
  },
  {
   "cell_type": "code",
   "execution_count": 45,
   "metadata": {},
   "outputs": [
    {
     "name": "stdout",
     "output_type": "stream",
     "text": [
      "정상작동\n"
     ]
    }
   ],
   "source": [
    "import requests\n",
    "\n",
    "headers = {\n",
    "    'Content-Type': 'application/json',\n",
    "    'Authorization': 'Bearer TOKEN',\n",
    "}\n",
    "\n",
    "# 바꾼 url\n",
    "url = 'http://192.168.0.4:3000/medical_staff/requestCounselsPython'\n",
    "\n",
    "# 인증을 위한 identification 데이터\n",
    "# email과 password 변수에 의료진 email과 password 문자열로 적으면 됨\n",
    "email = 'medical1'\n",
    "password = '1234'\n",
    "identification = {'email':email, 'password':password}\n",
    "\n",
    "# 최종적으로 서버에 보낼 데이터(사용자 인증을 위해서)\n",
    "sendData = { 'identification':identification }\n",
    "\n",
    "# 서버에 데이터 요청\n",
    "response = requests.post(url, headers=headers, json=sendData, stream=True)\n",
    "\n",
    "# 서버에서 받은 데이터 json으로 파싱\n",
    "resData = response.json()\n",
    "\n",
    "with open('./temp.json', 'wb') as f:\n",
    "    for chunk in response.iter_content(chunk_size=8192):  # 8KB씩 청크로 읽기\n",
    "        if chunk:  # 청크가 비어있지 않다면\n",
    "            f.write(chunk)\n",
    "\n",
    "# 정상작동시\n",
    "if resData['result'] == 0:\n",
    "    print('정상작동')\n",
    "# 로그인 에러 발생시\n",
    "elif resData['result'] == 1:\n",
    "    print('로그인 에러. email이나 Password 변수 점검 바람.')\n",
    "    print(resData)\n",
    "# 서버에서 에러 발생시\n",
    "elif resData['result'] == 2:\n",
    "    print('db서버로부터 서버가 파일을 읽어오는데 오류가 있거나 서버가 .json 파일을 읽어오는데 오류가 발생함')\n",
    "    print(resData)\n"
   ]
  },
  {
   "cell_type": "markdown",
   "metadata": {},
   "source": [
    "### 참고\n",
    "\n",
    "#### temp.json 형식\n",
    "\n",
    "```\n",
    "{\n",
    "    'result': 0,(오류발생여부, 0은 정상작동, 1은 로그인 실패, 2는 서버 오류) \n",
    "    'data': {\n",
    "        'counselList':\n",
    "            # 아래 배열은 councelList 배열임.\n",
    "            [\n",
    "                {\n",
    "                    'id': 1,\n",
    "                    'counsel': (각 id의 대화내역, 사진 저장을 base64형식으로 해서 사진 첨부할 경우 엄청 길수도 있음),\n",
    "                    'isDiagnosed': False,(진단받았는지 여부)\n",
    "                    'createdAt': '2024-08-13T02:59:00.505Z', \n",
    "                    'updatedAt': '2024-08-13T02:59:00.505Z',\n",
    "                    'deletedAt': None,\n",
    "                     'UserId': None,(신경안써도 됨)\n",
    "                     'userId': 1\n",
    "                }, \n",
    "                (위 json 형식이 배열로 있음)\n",
    "            ]\n",
    "    }\n",
    "}\n",
    "```\n",
    "\n",
    "#### counsel json 형식\n",
    "\n",
    "temp_altered.json 파일 참고\n"
   ]
  },
  {
   "cell_type": "markdown",
   "metadata": {},
   "source": [
    "## 보너스: json파일에 사진 데이터 사진파일로 변환하고 사진파일 데이터는 삭제"
   ]
  },
  {
   "cell_type": "markdown",
   "metadata": {},
   "source": [
    "위의 과정에서 서버로부터 받아온 temp.json 파일의 \\\n",
    "사진데이터를 'output(counsel의 id).jpg'로 변환하여 저장하고\\\n",
    "사진데이터를 temp.json파일에서 삭제한뒤\\\n",
    "(정확히는 사진데이터가 있던 자리에 'photo was here'같은 문자열로 대체해서 용량을 줄임)\\\n",
    "temp_altered.json파일로 저장함.\n",
    "\n",
    "그냥 아래 코드도 같이 쓰고, temp_altered.json으로 데이터 사용한다고 생각하면 편함"
   ]
  },
  {
   "cell_type": "code",
   "execution_count": 55,
   "metadata": {},
   "outputs": [],
   "source": [
    "import json\n",
    "import base64\n",
    "\n",
    "with open('temp.json', 'r') as f:\n",
    "    data = json.load(f)\n",
    "    councelList = data['data']['counselList']\n",
    "    for counsel in councelList:\n",
    "        for message in counsel['counsel']['conversation']:\n",
    "            if message['role'] == 'user':\n",
    "                for content in message['content']:\n",
    "                    if content['type'] == 'image_url':\n",
    "                        image = content['image_url']['url']\n",
    "                        content['image_url']['url'] = 'image was here'\n",
    "\n",
    "                        base64_str = image.split(',')[1]\n",
    "                        image_data = base64.b64decode(base64_str)\n",
    "                        \n",
    "                        with open(f\"output{counsel['id']}.jpg\", 'wb') as photo:\n",
    "                            \n",
    "                            photo.write(image_data)\n",
    "                        \n",
    "    with open('temp_altered.json', 'w', encoding='utf-8') as f_altered:\n",
    "        json.dump(data, f_altered, indent=4, ensure_ascii=False)\n"
   ]
  }
 ],
 "metadata": {
  "kernelspec": {
   "display_name": "Python 3",
   "language": "python",
   "name": "python3"
  },
  "language_info": {
   "codemirror_mode": {
    "name": "ipython",
    "version": 3
   },
   "file_extension": ".py",
   "mimetype": "text/x-python",
   "name": "python",
   "nbconvert_exporter": "python",
   "pygments_lexer": "ipython3",
   "version": "3.9.13"
  }
 },
 "nbformat": 4,
 "nbformat_minor": 2
}
